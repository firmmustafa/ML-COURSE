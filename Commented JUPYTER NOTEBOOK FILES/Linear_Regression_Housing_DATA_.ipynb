{
 "cells": [
  {
   "cell_type": "markdown",
   "metadata": {},
   "source": [
    "###### Linear Regression with manually added polynomial features hypothesis that can be altered"
   ]
  },
  {
   "cell_type": "markdown",
   "metadata": {},
   "source": [
    "## Import Libraries"
   ]
  },
  {
   "cell_type": "code",
   "execution_count": 18,
   "metadata": {},
   "outputs": [],
   "source": [
    "import numpy as np\n",
    "\n",
    "import pandas as pd\n",
    "\n",
    "import matplotlib.pyplot as plt"
   ]
  },
  {
   "cell_type": "markdown",
   "metadata": {},
   "source": [
    "## Get Data"
   ]
  },
  {
   "cell_type": "code",
   "execution_count": 19,
   "metadata": {},
   "outputs": [],
   "source": [
    "# Using Pandas library to import data into a dataframe\n",
    "points = pd.read_csv(r\"C:\\Users\\tiger\\Downloads\\house_data_complete.csv\",parse_dates=['date'])"
   ]
  },
  {
   "cell_type": "code",
   "execution_count": 20,
   "metadata": {},
   "outputs": [
    {
     "data": {
      "text/html": [
       "<div>\n",
       "<style scoped>\n",
       "    .dataframe tbody tr th:only-of-type {\n",
       "        vertical-align: middle;\n",
       "    }\n",
       "\n",
       "    .dataframe tbody tr th {\n",
       "        vertical-align: top;\n",
       "    }\n",
       "\n",
       "    .dataframe thead th {\n",
       "        text-align: right;\n",
       "    }\n",
       "</style>\n",
       "<table border=\"1\" class=\"dataframe\">\n",
       "  <thead>\n",
       "    <tr style=\"text-align: right;\">\n",
       "      <th></th>\n",
       "      <th>id</th>\n",
       "      <th>date</th>\n",
       "      <th>price</th>\n",
       "      <th>bedrooms</th>\n",
       "      <th>bathrooms</th>\n",
       "      <th>sqft_living</th>\n",
       "      <th>sqft_lot</th>\n",
       "      <th>floors</th>\n",
       "      <th>waterfront</th>\n",
       "      <th>view</th>\n",
       "      <th>...</th>\n",
       "      <th>grade</th>\n",
       "      <th>sqft_above</th>\n",
       "      <th>sqft_basement</th>\n",
       "      <th>yr_built</th>\n",
       "      <th>yr_renovated</th>\n",
       "      <th>zipcode</th>\n",
       "      <th>lat</th>\n",
       "      <th>long</th>\n",
       "      <th>sqft_living15</th>\n",
       "      <th>sqft_lot15</th>\n",
       "    </tr>\n",
       "  </thead>\n",
       "  <tbody>\n",
       "    <tr>\n",
       "      <th>0</th>\n",
       "      <td>7129300520</td>\n",
       "      <td>2014-10-13</td>\n",
       "      <td>221900.0</td>\n",
       "      <td>3</td>\n",
       "      <td>1.00</td>\n",
       "      <td>1180</td>\n",
       "      <td>5650</td>\n",
       "      <td>1.0</td>\n",
       "      <td>0</td>\n",
       "      <td>0</td>\n",
       "      <td>...</td>\n",
       "      <td>7</td>\n",
       "      <td>1180</td>\n",
       "      <td>0</td>\n",
       "      <td>1955</td>\n",
       "      <td>0</td>\n",
       "      <td>98178</td>\n",
       "      <td>47.5112</td>\n",
       "      <td>-122.257</td>\n",
       "      <td>1340</td>\n",
       "      <td>5650</td>\n",
       "    </tr>\n",
       "    <tr>\n",
       "      <th>1</th>\n",
       "      <td>6414100192</td>\n",
       "      <td>2014-12-09</td>\n",
       "      <td>538000.0</td>\n",
       "      <td>3</td>\n",
       "      <td>2.25</td>\n",
       "      <td>2570</td>\n",
       "      <td>7242</td>\n",
       "      <td>2.0</td>\n",
       "      <td>0</td>\n",
       "      <td>0</td>\n",
       "      <td>...</td>\n",
       "      <td>7</td>\n",
       "      <td>2170</td>\n",
       "      <td>400</td>\n",
       "      <td>1951</td>\n",
       "      <td>1991</td>\n",
       "      <td>98125</td>\n",
       "      <td>47.7210</td>\n",
       "      <td>-122.319</td>\n",
       "      <td>1690</td>\n",
       "      <td>7639</td>\n",
       "    </tr>\n",
       "    <tr>\n",
       "      <th>2</th>\n",
       "      <td>5631500400</td>\n",
       "      <td>2015-02-25</td>\n",
       "      <td>180000.0</td>\n",
       "      <td>2</td>\n",
       "      <td>1.00</td>\n",
       "      <td>770</td>\n",
       "      <td>10000</td>\n",
       "      <td>1.0</td>\n",
       "      <td>0</td>\n",
       "      <td>0</td>\n",
       "      <td>...</td>\n",
       "      <td>6</td>\n",
       "      <td>770</td>\n",
       "      <td>0</td>\n",
       "      <td>1933</td>\n",
       "      <td>0</td>\n",
       "      <td>98028</td>\n",
       "      <td>47.7379</td>\n",
       "      <td>-122.233</td>\n",
       "      <td>2720</td>\n",
       "      <td>8062</td>\n",
       "    </tr>\n",
       "    <tr>\n",
       "      <th>3</th>\n",
       "      <td>2487200875</td>\n",
       "      <td>2014-12-09</td>\n",
       "      <td>604000.0</td>\n",
       "      <td>4</td>\n",
       "      <td>3.00</td>\n",
       "      <td>1960</td>\n",
       "      <td>5000</td>\n",
       "      <td>1.0</td>\n",
       "      <td>0</td>\n",
       "      <td>0</td>\n",
       "      <td>...</td>\n",
       "      <td>7</td>\n",
       "      <td>1050</td>\n",
       "      <td>910</td>\n",
       "      <td>1965</td>\n",
       "      <td>0</td>\n",
       "      <td>98136</td>\n",
       "      <td>47.5208</td>\n",
       "      <td>-122.393</td>\n",
       "      <td>1360</td>\n",
       "      <td>5000</td>\n",
       "    </tr>\n",
       "    <tr>\n",
       "      <th>4</th>\n",
       "      <td>1954400510</td>\n",
       "      <td>2015-02-18</td>\n",
       "      <td>510000.0</td>\n",
       "      <td>3</td>\n",
       "      <td>2.00</td>\n",
       "      <td>1680</td>\n",
       "      <td>8080</td>\n",
       "      <td>1.0</td>\n",
       "      <td>0</td>\n",
       "      <td>0</td>\n",
       "      <td>...</td>\n",
       "      <td>8</td>\n",
       "      <td>1680</td>\n",
       "      <td>0</td>\n",
       "      <td>1987</td>\n",
       "      <td>0</td>\n",
       "      <td>98074</td>\n",
       "      <td>47.6168</td>\n",
       "      <td>-122.045</td>\n",
       "      <td>1800</td>\n",
       "      <td>7503</td>\n",
       "    </tr>\n",
       "  </tbody>\n",
       "</table>\n",
       "<p>5 rows × 21 columns</p>\n",
       "</div>"
      ],
      "text/plain": [
       "           id       date     price  bedrooms  bathrooms  sqft_living  \\\n",
       "0  7129300520 2014-10-13  221900.0         3       1.00         1180   \n",
       "1  6414100192 2014-12-09  538000.0         3       2.25         2570   \n",
       "2  5631500400 2015-02-25  180000.0         2       1.00          770   \n",
       "3  2487200875 2014-12-09  604000.0         4       3.00         1960   \n",
       "4  1954400510 2015-02-18  510000.0         3       2.00         1680   \n",
       "\n",
       "   sqft_lot  floors  waterfront  view     ...      grade  sqft_above  \\\n",
       "0      5650     1.0           0     0     ...          7        1180   \n",
       "1      7242     2.0           0     0     ...          7        2170   \n",
       "2     10000     1.0           0     0     ...          6         770   \n",
       "3      5000     1.0           0     0     ...          7        1050   \n",
       "4      8080     1.0           0     0     ...          8        1680   \n",
       "\n",
       "   sqft_basement  yr_built  yr_renovated  zipcode      lat     long  \\\n",
       "0              0      1955             0    98178  47.5112 -122.257   \n",
       "1            400      1951          1991    98125  47.7210 -122.319   \n",
       "2              0      1933             0    98028  47.7379 -122.233   \n",
       "3            910      1965             0    98136  47.5208 -122.393   \n",
       "4              0      1987             0    98074  47.6168 -122.045   \n",
       "\n",
       "   sqft_living15  sqft_lot15  \n",
       "0           1340        5650  \n",
       "1           1690        7639  \n",
       "2           2720        8062  \n",
       "3           1360        5000  \n",
       "4           1800        7503  \n",
       "\n",
       "[5 rows x 21 columns]"
      ]
     },
     "execution_count": 20,
     "metadata": {},
     "output_type": "execute_result"
    }
   ],
   "source": [
    "# Visualizing first few rows of the dataset\n",
    "points.head()"
   ]
  },
  {
   "cell_type": "markdown",
   "metadata": {},
   "source": [
    "## Prepare Data"
   ]
  },
  {
   "cell_type": "code",
   "execution_count": 21,
   "metadata": {},
   "outputs": [],
   "source": [
    "# Dropping NANs\n",
    "points=points.dropna()"
   ]
  },
  {
   "cell_type": "code",
   "execution_count": 22,
   "metadata": {},
   "outputs": [],
   "source": [
    "def ziparea(zipcode):\n",
    "\n",
    "    if zipcode <= 98033:\n",
    "\n",
    "        return 'Area1'\n",
    "\n",
    "    elif zipcode>98033 and zipcode <= 98065:\n",
    "\n",
    "        return 'Area2'\n",
    "\n",
    "    elif zipcode>98065 and zipcode<=98118:\n",
    "\n",
    "        return 'Area3'\n",
    "\n",
    "    elif zipcode>98118 and zipcode<=98199:\n",
    "\n",
    "        return 'Area4'"
   ]
  },
  {
   "cell_type": "code",
   "execution_count": 23,
   "metadata": {},
   "outputs": [],
   "source": [
    "# Creating new features\n",
    "points['Area'] = points['zipcode'].apply(lambda x:ziparea(x))\n",
    "points['year_sold'] = pd.DatetimeIndex(points['date']).year"
   ]
  },
  {
   "cell_type": "code",
   "execution_count": 24,
   "metadata": {},
   "outputs": [],
   "source": [
    "# Removing unwanted features\n",
    "del points['id']\n",
    "del points['zipcode']\n",
    "del points['date']"
   ]
  },
  {
   "cell_type": "code",
   "execution_count": 25,
   "metadata": {},
   "outputs": [],
   "source": [
    "flag=1\n",
    "# Indepedent matrix of features\n",
    "X = np.array([  points['view'], points['Area'],points['lat'], points['long'], points['year_sold'], points['sqft_living15'], points['bathrooms'], points['floors'], points['bedrooms'], points['sqft_above'],points['sqft_basement'], points['yr_built'], points['sqft_lot'], points['sqft_living'], points['grade'] , points['sqft_living']*points['grade'] , points['grade']**2, points['grade']*points['floors'] ]) # Can take any number of numerical features  \n",
    "X = X.T\n",
    "# Dependent matrix of features\n",
    "y = points.iloc[:, 0].values   \n",
    "y= np.reshape(y,(len(y),1))\n",
    "if sum(X.shape)==len(X):\n",
    "\n",
    "    flag=0\n",
    "\n",
    "    X= np.reshape(X,(len(y),1))\n",
    "\n",
    "    X = np.append(arr = np.ones((len(X),1)).astype(int), values = X, axis = 1)"
   ]
  },
  {
   "cell_type": "code",
   "execution_count": 26,
   "metadata": {},
   "outputs": [],
   "source": [
    "# Encoding categorical data\n",
    "# Encoding the Independent Variable\n",
    "# Encoding Categorical data to make the model able to deal with it\n",
    "from sklearn.preprocessing import LabelEncoder, OneHotEncoder\n",
    "labelencoder_X = LabelEncoder()\n",
    "X[:, 1] = labelencoder_X.fit_transform(X[:, 1])\n",
    "onehotencoder = OneHotEncoder(categorical_features = [1])\n",
    "X = onehotencoder.fit_transform(X).toarray()\n",
    "\n",
    "# Avoiding dummy variable trap\n",
    "\n",
    "X=X[:,1:]"
   ]
  },
  {
   "cell_type": "code",
   "execution_count": 27,
   "metadata": {},
   "outputs": [],
   "source": [
    "# Feature scaling\n",
    "for i in range(3,X.shape[1]):\n",
    "    X[:,i] = (X[:,i]-np.mean(X[:,i]))/(np.std(X[:,i]))\n",
    "y[:,0] = y[:,0]/np.mean(y[:,0])\n",
    "# Adding bias term\n",
    "X = np.append(arr = np.ones((len(X),1)).astype(int), values = X, axis = 1)\n",
    "# vector of optimized parameters\n",
    "theta = np.zeros([1,X.shape[1]]) "
   ]
  },
  {
   "cell_type": "code",
   "execution_count": 28,
   "metadata": {},
   "outputs": [],
   "source": [
    "# Splitting the dataset into the Training set and Test set\n",
    "from sklearn.cross_validation import train_test_split\n",
    "X_train, X_test, y_train, y_test = train_test_split(X, y, test_size = 0.2, random_state = 42)\n",
    "y_train= np.reshape(y_train,(len(y_train),1))"
   ]
  },
  {
   "cell_type": "code",
   "execution_count": 29,
   "metadata": {},
   "outputs": [],
   "source": [
    "''' Function to compute value of squared error between hypothesis and target values'''\n",
    "def fn_cost(X,y,theta):\n",
    "\n",
    "    error= (np.dot(X,np.transpose(theta)) - y)**2\n",
    "\n",
    "    error_r = 1/(2*(len(X)))*np.sum(error)\n",
    "\n",
    "    return error_r"
   ]
  },
  {
   "cell_type": "code",
   "execution_count": 30,
   "metadata": {},
   "outputs": [],
   "source": [
    "''' Function that optimizes model parameters for minimal error using gradient descent algorithm''' \n",
    "\n",
    "def gradientDescent(X,y,theta,learning_rate):\n",
    "\n",
    "    cost = []\n",
    "\n",
    "    i=-1\n",
    "\n",
    "    o_error= (np.dot(X,np.transpose(theta)) - y)**2\n",
    "\n",
    "    o_error = np.sum(o_error)\n",
    "\n",
    "    while True:\n",
    "\n",
    "        i+=1\n",
    "\n",
    "        grad = 1/len(X) * np.sum(X * (np.dot(X,np.transpose(theta)) - y), axis=0)\n",
    "\n",
    "        theta = theta - learning_rate*grad\n",
    "\n",
    "        cost.append(fn_cost(X,y,theta))\n",
    "\n",
    "        error= (np.dot(X,np.transpose(theta)) - y)**2\n",
    "\n",
    "        error = np.sum(error)\n",
    "\n",
    "        if abs(error-o_error)<0.0001:\n",
    "\n",
    "            break\n",
    "\n",
    "        o_error=error\n",
    "\n",
    "    return theta,cost,i+1"
   ]
  },
  {
   "cell_type": "code",
   "execution_count": 31,
   "metadata": {},
   "outputs": [],
   "source": [
    "''' Function that uses normal equation for getting optimized model parameters'''\n",
    "\n",
    "def normeq(X,y):\n",
    "    theta_best = np.linalg.inv(X.T.dot(X)).dot(X.T).dot(y)\n",
    "    return theta_best"
   ]
  },
  {
   "cell_type": "code",
   "execution_count": 32,
   "metadata": {},
   "outputs": [],
   "source": [
    "def predictor(opt_theta,X):\n",
    "    return np.dot(X,np.transpose(opt_theta))"
   ]
  },
  {
   "cell_type": "code",
   "execution_count": 33,
   "metadata": {},
   "outputs": [],
   "source": [
    "#learning rate\n",
    "learning_rate = 0.01"
   ]
  },
  {
   "cell_type": "code",
   "execution_count": 34,
   "metadata": {},
   "outputs": [
    {
     "name": "stdout",
     "output_type": "stream",
     "text": [
      "Optimized thetas using gradient descent -> [[ 1.05512547 -0.01342147 -0.05238186 -0.17213009  0.10366808  0.15262271\n",
      "  -0.04918008  0.02238905  0.0312664   0.08111466  0.13274184 -0.01612314\n",
      "  -0.26261564 -0.13123277 -0.14181221 -0.00659058 -0.3000193   0.07567644\n",
      "   1.08240076 -0.1126641  -0.12908594]]\n"
     ]
    }
   ],
   "source": [
    "# Calling gradient descent fn which return -> optimized parameters, cost vector, and iterations\n",
    "g,cost,iters = gradientDescent(X_train,y_train,theta,learning_rate)\n",
    "print('Optimized thetas using gradient descent ->',g)"
   ]
  },
  {
   "cell_type": "code",
   "execution_count": 35,
   "metadata": {},
   "outputs": [
    {
     "name": "stdout",
     "output_type": "stream",
     "text": [
      "Optimized thetas using norm eq -> [[ 1.27537875e+00 -5.95336281e-01 -8.01646537e-02 -5.09372881e-01\n",
      "   1.25431476e-01  2.13590561e-01 -2.13352528e-01  2.04411366e-02\n",
      "   9.59648187e-03  3.84842405e-01 -1.91750131e-02 -1.01081573e-02\n",
      "  -1.50361789e+01 -8.41026771e+00 -1.43429967e-01 -6.42080230e-03\n",
      "   1.58916209e+01  2.35542740e-01  1.21458802e+00 -3.17384946e-01\n",
      "  -1.15182196e-01]]\n"
     ]
    }
   ],
   "source": [
    "# Calling norm eq fn which return optimized parameters\n",
    "theta_norm = normeq(X_train,y_train)\n",
    "print('Optimized thetas using norm eq ->', theta_norm.T)"
   ]
  },
  {
   "cell_type": "code",
   "execution_count": 40,
   "metadata": {},
   "outputs": [
    {
     "name": "stdout",
     "output_type": "stream",
     "text": [
      "Model mse(train)->  0.06053394036803668\n"
     ]
    }
   ],
   "source": [
    "model_acc_train = fn_cost(X_train,y_train,g)\n",
    "print('Model mse(train)-> ', model_acc_train)"
   ]
  },
  {
   "cell_type": "code",
   "execution_count": 41,
   "metadata": {},
   "outputs": [
    {
     "name": "stdout",
     "output_type": "stream",
     "text": [
      "Model mse(test)->  0.07629045550824338\n"
     ]
    }
   ],
   "source": [
    "model_acc_test = fn_cost(X_test,y_test,g)\n",
    "print('Model mse(test)-> ', model_acc_test)"
   ]
  },
  {
   "cell_type": "code",
   "execution_count": 42,
   "metadata": {},
   "outputs": [
    {
     "name": "stdout",
     "output_type": "stream",
     "text": [
      "Model erorr: norm eq (train)-> 0.15422094188414998\n"
     ]
    }
   ],
   "source": [
    "# computing final error for model parameters using norm eq\n",
    "error_finale_norm = fn_cost(X_train,y_train,theta_norm.T)\n",
    "print('Model erorr: norm eq (train)->' , error_finale_norm)"
   ]
  },
  {
   "cell_type": "code",
   "execution_count": 43,
   "metadata": {},
   "outputs": [
    {
     "name": "stdout",
     "output_type": "stream",
     "text": [
      "Model erorr : norm eq (test)-> 0.16963913318714305\n"
     ]
    }
   ],
   "source": [
    "model_acc_norm_test = fn_cost(X_test,y_test,theta_norm.T)\n",
    "print('Model erorr : norm eq (test)->' , model_acc_norm_test )"
   ]
  },
  {
   "cell_type": "code",
   "execution_count": 44,
   "metadata": {},
   "outputs": [],
   "source": [
    "y_pred_test = predictor(g,X_test)"
   ]
  },
  {
   "cell_type": "code",
   "execution_count": 46,
   "metadata": {},
   "outputs": [
    {
     "data": {
      "image/png": "[encoded data removed]",
      "text/plain": [
       "<matplotlib.figure.Figure at 0x1ba62a0add8>"
      ]
     },
     "metadata": {},
     "output_type": "display_data"
    }
   ],
   "source": [
    "### Plot\n",
    "from sklearn import metrics\n",
    "fig, ax = plt.subplots()  \n",
    "ax.plot(np.arange(iters), cost, 'b')  \n",
    "ax.set_xlabel('Iterations')  \n",
    "ax.set_ylabel('Error')  \n",
    "ax.set_title('Error vs. Number of iterations') \n",
    "r2_test = metrics.r2_score(y_test, y_pred_test)"
   ]
  },
  {
   "cell_type": "code",
   "execution_count": 47,
   "metadata": {},
   "outputs": [
    {
     "name": "stdout",
     "output_type": "stream",
     "text": [
      "r-squared -> 0.7055954000818396\n"
     ]
    }
   ],
   "source": [
    "print('r-squared ->', r2_test) # the higher the better"
   ]
  }
 ],
 "metadata": {
  "kernelspec": {
   "display_name": "Python 3",
   "language": "python",
   "name": "python3"
  },
  "language_info": {
   "codemirror_mode": {
    "name": "ipython",
    "version": 3
   },
   "file_extension": ".py",
   "mimetype": "text/x-python",
   "name": "python",
   "nbconvert_exporter": "python",
   "pygments_lexer": "ipython3",
   "version": "3.6.4"
  }
 },
 "nbformat": 4,
 "nbformat_minor": 2
}
